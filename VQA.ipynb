{
  "nbformat": 4,
  "nbformat_minor": 0,
  "metadata": {
    "colab": {
      "name": "VQA.ipynb",
      "provenance": [],
      "include_colab_link": true
    },
    "kernelspec": {
      "name": "python3",
      "display_name": "Python 3"
    },
    "language_info": {
      "name": "python"
    }
  },
  "cells": [
    {
      "cell_type": "markdown",
      "metadata": {
        "id": "view-in-github",
        "colab_type": "text"
      },
      "source": [
        "<a href=\"https://colab.research.google.com/github/Scorsess/RelationNetworks-CLEVR/blob/master/VQA.ipynb\" target=\"_parent\"><img src=\"https://colab.research.google.com/assets/colab-badge.svg\" alt=\"Open In Colab\"/></a>"
      ]
    },
    {
      "cell_type": "markdown",
      "source": [
        "## Model interpretation for Visual Question Answering"
      ],
      "metadata": {
        "id": "o3Rgp1WZBC60"
      }
    },
    {
      "cell_type": "code",
      "execution_count": null,
      "metadata": {
        "id": "NrE68sGdA9hj"
      },
      "outputs": [],
      "source": [
        "## Install the libraries\n",
        "!pip install torchvision PIL matplotlib captum pdbpp"
      ]
    },
    {
      "cell_type": "code",
      "source": [
        "## Clone Git repos\n",
        "\n",
        "!git clone https://github.com/Cyanogenoid/pytorch-vqa\n",
        "!git clone https://github.com/Cyanogenoid/pytorch-resnet"
      ],
      "metadata": {
        "id": "aXFyvHUa398M"
      },
      "execution_count": null,
      "outputs": []
    },
    {
      "cell_type": "code",
      "source": [
        "import os, sys\n",
        "\n",
        "# Replace <PROJECT-DIR> placeholder with your project directory path\n",
        "PROJECT_DIR = '/content'\n",
        "\n",
        "# Clone PyTorch VQA project from: https://github.com/Cyanogenoid/pytorch-vqa and add to your filepath\n",
        "sys.path.append(os.path.realpath(f\"{PROJECT_DIR}/pytorch-vqa\"))\n",
        "\n",
        "# Clone PyTorch Resnet model from: https://github.com/Cyanogenoid/pytorch-resnet and add to your filepath\n",
        "# We can also use standard resnet model from torchvision package, however the model from `pytorch-resnet` \n",
        "# is slightly different from the original resnet model and performs better on this particular VQA task\n",
        "sys.path.append(os.path.realpath(f\"{PROJECT_DIR}/pytorch-resnet\"))"
      ],
      "metadata": {
        "id": "hXzh4tLg0Q_8"
      },
      "execution_count": null,
      "outputs": []
    },
    {
      "cell_type": "code",
      "source": [
        "import threading\n",
        "import numpy as np\n",
        "\n",
        "import torch\n",
        "import torchvision\n",
        "import torchvision.transforms as transforms\n",
        "import torch.nn.functional as F\n",
        "\n",
        "import resnet  # from pytorch-resnet\n",
        "\n",
        "import matplotlib.pyplot as plt\n",
        "from PIL import Image\n",
        "from matplotlib.colors import LinearSegmentedColormap\n",
        "\n",
        "from model import Net, apply_attention, tile_2d_over_nd # from pytorch-vqa\n",
        "from utils import get_transform # from pytorch-vqa\n",
        "\n",
        "from captum.attr import (\n",
        "    IntegratedGradients,\n",
        "    LayerIntegratedGradients,\n",
        "    TokenReferenceBase,\n",
        "    configure_interpretable_embedding_layer,\n",
        "    remove_interpretable_embedding_layer,\n",
        "    visualization\n",
        ")\n",
        "from captum.attr._utils.input_layer_wrapper import ModelInputWrapper"
      ],
      "metadata": {
        "id": "sS1MGeK90RDC"
      },
      "execution_count": null,
      "outputs": []
    },
    {
      "cell_type": "code",
      "source": [
        "device = torch.device(\"cuda:0\" if torch.cuda.is_available() else \"cpu\")"
      ],
      "metadata": {
        "id": "19YBDZPO0RGN"
      },
      "execution_count": null,
      "outputs": []
    },
    {
      "cell_type": "code",
      "source": [],
      "metadata": {
        "id": "Q6Tu_7w50RJM"
      },
      "execution_count": null,
      "outputs": []
    },
    {
      "cell_type": "markdown",
      "source": [
        "# Loading VQA model \n",
        "\n",
        "### VQA model can be downloaded from: \n",
        "### https://github.com/Cyanogenoid/pytorch-vqa/releases/download/v1.0/2017-08-04_00.55.19.pth"
      ],
      "metadata": {
        "id": "rsK0WNox0rjK"
      }
    },
    {
      "cell_type": "code",
      "source": [
        "saved_state = torch.load('models/2017-08-04_00.55.19.pth', map_location=device)\n",
        "\n",
        "# reading vocabulary from saved model\n",
        "vocab = saved_state['vocab']\n",
        "\n",
        "# reading word tokens from saved model\n",
        "token_to_index = vocab['question']\n",
        "\n",
        "# reading answers from saved model\n",
        "answer_to_index = vocab['answer']\n",
        "\n",
        "num_tokens = len(token_to_index) + 1"
      ],
      "metadata": {
        "id": "4h3SO-be0loC"
      },
      "execution_count": null,
      "outputs": []
    },
    {
      "cell_type": "code",
      "source": [
        "# reading answer classes from the vocabulary\n",
        "answer_words = ['unk'] * len(answer_to_index)\n",
        "for w, idx in answer_to_index.items():\n",
        "    answer_words[idx]=w"
      ],
      "metadata": {
        "id": "nxeliDX-0RMA"
      },
      "execution_count": null,
      "outputs": []
    },
    {
      "cell_type": "code",
      "source": [
        "# Loads predefined VQA model and sets it to eval mode.\n",
        "# `device_ids` contains a list of GPU ids which are used for paralelization supported by `DataParallel`\n",
        "\n",
        "vqa_net = torch.nn.DataParallel(Net(num_tokens))\n",
        "vqa_net.load_state_dict(saved_state['weights'])\n",
        "vqa_net.to(device)\n",
        "vqa_net.eval()"
      ],
      "metadata": {
        "id": "rILKmCQa0RO0"
      },
      "execution_count": null,
      "outputs": []
    },
    {
      "cell_type": "code",
      "source": [
        "# Converting string question into a tensor. `encode_question` function is similar to original implementation of `encode_question` method in pytorch-vqa source code.\n",
        "# https://github.com/Cyanogenoid/pytorch-vqa/blob/master/data.py#L110\n",
        "\n",
        "def encode_question(question):\n",
        "    \"\"\" Turn a question into a vector of indices and a question length \"\"\"\n",
        "    question_arr = question.lower().split()\n",
        "    vec = torch.zeros(len(question_arr), device=device).long()\n",
        "    for i, token in enumerate(question_arr):\n",
        "        index = token_to_index.get(token, 0)\n",
        "        vec[i] = index\n",
        "    return vec, torch.tensor(len(question_arr), device=device)"
      ],
      "metadata": {
        "id": "rXLG_mE10RR_"
      },
      "execution_count": null,
      "outputs": []
    },
    {
      "cell_type": "code",
      "source": [
        "# # Defining end-to-end VQA model\n",
        "\n",
        "# Original saved model does not have image network's (resnet's) layers attached to it. We attach it in the below cell using forward-hook. The rest of the model is identical to the original definition of the model: https://github.com/Cyanogenoid/pytorch-vqa/blob/master/model.py#L48\n",
        "\n",
        "\n",
        "class ResNetLayer4(torch.nn.Module):\n",
        "    def __init__(self):\n",
        "        super().__init__()\n",
        "        self.r_model = resnet.resnet152(pretrained=True)\n",
        "        self.r_model.eval()\n",
        "        self.r_model.to(device)\n",
        "\n",
        "        self.buffer = {}\n",
        "        lock = threading.Lock()\n",
        "\n",
        "        # Since we only use the output of the 4th layer from the resnet model and do not\n",
        "        # need to do forward pass all the way to the final layer we can terminate forward\n",
        "        # execution in the forward hook of that layer after obtaining the output of it.\n",
        "        # For that reason, we can define a custom Exception class that will be used for\n",
        "        # raising early termination error.\n",
        "        def save_output(module, input, output):\n",
        "            with lock:\n",
        "                self.buffer[output.device] = output\n",
        "\n",
        "        self.r_model.layer4.register_forward_hook(save_output)\n",
        "\n",
        "    def forward(self, x):\n",
        "        self.r_model(x)          \n",
        "        return self.buffer[x.device]\n",
        "\n",
        "class VQA_Resnet_Model(Net):\n",
        "    def __init__(self, embedding_tokens):\n",
        "        super().__init__(embedding_tokens)\n",
        "        self.resnet_layer4 = ResNetLayer4()\n",
        "    \n",
        "    def forward(self, v, q, q_len):\n",
        "        q = self.text(q, list(q_len.data))\n",
        "        v = self.resnet_layer4(v)\n",
        "\n",
        "        v = v / (v.norm(p=2, dim=1, keepdim=True).expand_as(v) + 1e-8)\n",
        "\n",
        "        a = self.attention(v, q)\n",
        "        v = apply_attention(v, a)\n",
        "\n",
        "        combined = torch.cat([v, q], dim=1)\n",
        "        answer = self.classifier(combined)\n",
        "        return answer"
      ],
      "metadata": {
        "id": "LiZ3GkLA2NFu"
      },
      "execution_count": null,
      "outputs": []
    },
    {
      "cell_type": "code",
      "source": [
        "# In order to explain text features, we must let integrated gradients attribute on the embeddings, not the indices. The reason for this is simply due to Integrated Gradients being a gradient-based attribution method, as we are unable to compute gradients with respect to integers.\n",
        "# \n",
        "# Hence, we have two options:\n",
        "# 1. \"Patch\" the model's embedding layer and corresponding inputs. To patch the layer, use the `configure_interpretable_embedding_layer`^ method, which will wrap the associated layer you give it, with an identity function. This identity function accepts an embedding and outputs an embedding. You can patch the inputs, i.e. obtain the embedding for a set of indices, with `model.wrapped_layer.indices_to_embeddings(indices)`.\n",
        "# 2. Use the equivalent layer attribution algorithm (`LayerIntegratedGradients` in our case) with the utility class `ModelInputWrapper`. The `ModelInputWrapper` will wrap your model and feed all it's inputs to seperate layers; allowing you to use layer attribution methods on inputs. You can access the associated layer for input named `\"foo\"` via the `ModuleDict`: `wrapped_model.input_maps[\"foo\"]`.\n",
        "# \n",
        "# ^ NOTE: For option (1), after finishing interpretation it is important to call `remove_interpretable_embedding_layer` which removes the Interpretable Embedding Layer that we added for interpretation purposes and sets the original embedding layer back in the model.\n",
        "# \n",
        "# Below I am using the `USE_INTEPRETABLE_EMBEDDING_LAYER` flag to do option (1) if it is True, otherwise (2) if it is False. Generally it is reccomended to do option (2) since this option is much more flexible and easy to use. The reason it is more flexible is it allows your model to do any sort of preprocessing to the indices tensor. It's easier to use since you don't have to touch your inputs.\n",
        "\n",
        "USE_INTEPRETABLE_EMBEDDING_LAYER = False  # set to True for option (1)"
      ],
      "metadata": {
        "id": "jX48SEIF2NYW"
      },
      "execution_count": null,
      "outputs": []
    },
    {
      "cell_type": "code",
      "source": [
        "# Updating weights from the saved model and removing the old model from the memory. And wrap the model with `ModelInputWrapper`.\n",
        "\n",
        "vqa_resnet = VQA_Resnet_Model(vqa_net.module.text.embedding.num_embeddings)\n",
        "\n",
        "# wrap the inputs into layers incase we wish to use a layer method\n",
        "vqa_resnet = ModelInputWrapper(vqa_resnet)\n",
        "\n",
        "# `device_ids` contains a list of GPU ids which are used for paralelization supported by `DataParallel`\n",
        "vqa_resnet = torch.nn.DataParallel(vqa_resnet)\n",
        "\n",
        "# saved vqa model's parameters\n",
        "partial_dict = vqa_net.state_dict()\n",
        "\n",
        "state = vqa_resnet.module.state_dict()\n",
        "state.update(partial_dict)\n",
        "vqa_resnet.module.load_state_dict(state)\n",
        "\n",
        "vqa_resnet.to(device)\n",
        "vqa_resnet.eval()\n",
        "\n",
        "# This is original VQA model without resnet. Removing it, since we do not need it\n",
        "del vqa_net"
      ],
      "metadata": {
        "id": "880NPvBV2Ndy"
      },
      "execution_count": null,
      "outputs": []
    },
    {
      "cell_type": "code",
      "source": [
        "# Patch the model's embedding layer if we're doing option (1)\n",
        "\n",
        "if USE_INTEPRETABLE_EMBEDDING_LAYER:\n",
        "    interpretable_embedding = configure_interpretable_embedding_layer(vqa_resnet, 'module.module.text.embedding')"
      ],
      "metadata": {
        "id": "5Ucjadqz2NiT"
      },
      "execution_count": null,
      "outputs": []
    },
    {
      "cell_type": "code",
      "source": [
        "# Below function will help us to transform and image into a tensor.\n",
        "\n",
        "image_size = 448  # scale image to given size and center\n",
        "central_fraction = 1.0\n",
        "\n",
        "transform = get_transform(image_size, central_fraction=central_fraction)\n",
        "    \n",
        "def image_to_features(img):\n",
        "    img_transformed = transform(img)\n",
        "    img_batch = img_transformed.unsqueeze(0).to(device)\n",
        "    return img_batch"
      ],
      "metadata": {
        "id": "DzlnEIHG2NmR"
      },
      "execution_count": null,
      "outputs": []
    },
    {
      "cell_type": "code",
      "source": [
        "# Creating reference aka baseline / background for questions. This is specifically necessary for baseline-based model interpretability algorithms. In this case for integrated gradients. More details can be found in the original paper: https://arxiv.org/pdf/1703.01365.pdf\n",
        "\n",
        "PAD_IND = token_to_index['pad']\n",
        "token_reference = TokenReferenceBase(reference_token_idx=PAD_IND)"
      ],
      "metadata": {
        "id": "Hl6zeUn72oYV"
      },
      "execution_count": null,
      "outputs": []
    },
    {
      "cell_type": "code",
      "source": [
        "# this is necessary for the backpropagation of RNNs models in eval mode\n",
        "torch.backends.cudnn.enabled=False"
      ],
      "metadata": {
        "id": "sbqICfTS2ocY"
      },
      "execution_count": null,
      "outputs": []
    },
    {
      "cell_type": "code",
      "source": [
        "# Creating an instance of layer integrated gradients for option (2); otherwise create an instance of integrated gradients for option (1). Both are equivalent methods to interpret the model's outputs.\n",
        "\n",
        "if USE_INTEPRETABLE_EMBEDDING_LAYER:\n",
        "    attr = IntegratedGradients(vqa_resnet)\n",
        "else:\n",
        "    attr = LayerIntegratedGradients(vqa_resnet, [vqa_resnet.module.input_maps[\"v\"], vqa_resnet.module.module.text.embedding])"
      ],
      "metadata": {
        "id": "SHfM6ceQ2oft"
      },
      "execution_count": null,
      "outputs": []
    },
    {
      "cell_type": "code",
      "source": [
        "# Defining default cmap that will be used for image visualizations \n",
        "\n",
        "default_cmap = LinearSegmentedColormap.from_list('custom blue', \n",
        "                                                 [(0, '#ffffff'),\n",
        "                                                  (0.25, '#252b36'),\n",
        "                                                  (1, '#000000')], N=256)"
      ],
      "metadata": {
        "id": "UIBZByWQ2oi2"
      },
      "execution_count": null,
      "outputs": []
    },
    {
      "cell_type": "code",
      "source": [
        "# Defining a few test images for model intepretation purposes\n",
        "\n",
        "images = [#'./img/siamese.jpg',\n",
        "          './img/eleph.jpeg']\n",
        "          #'./img/zebra.jpg']"
      ],
      "metadata": {
        "id": "-mIgholk25x6"
      },
      "execution_count": null,
      "outputs": []
    },
    {
      "cell_type": "code",
      "source": [
        "def vqa_resnet_interpret(image_filename, questions, targets):\n",
        "    img = Image.open(image_filename).convert('RGB')\n",
        "    original_image = transforms.Compose([transforms.Resize(int(image_size / central_fraction)),\n",
        "                                   transforms.CenterCrop(image_size), transforms.ToTensor()])(img) \n",
        "    \n",
        "    image_features = image_to_features(img).requires_grad_().to(device)\n",
        "    for question, target in zip(questions, targets):\n",
        "        q, q_len = encode_question(question)\n",
        "        \n",
        "        # generate reference for each sample\n",
        "        q_reference_indices = token_reference.generate_reference(q_len.item(), device=device).unsqueeze(0)\n",
        "\n",
        "        inputs = (q.unsqueeze(0), q_len.unsqueeze(0))\n",
        "        if USE_INTEPRETABLE_EMBEDDING_LAYER:\n",
        "            q_input_embedding = interpretable_embedding.indices_to_embeddings(q).unsqueeze(0)\n",
        "            q_reference_baseline = interpretable_embedding.indices_to_embeddings(q_reference_indices).to(device)\n",
        "\n",
        "            inputs = (image_features, q_input_embedding)\n",
        "            baselines = (image_features * 0.0, q_reference_baseline)\n",
        "            \n",
        "        else:            \n",
        "            inputs = (image_features, q.unsqueeze(0))\n",
        "            baselines = (image_features * 0.0, q_reference_indices)\n",
        "            \n",
        "        ans = vqa_resnet(*inputs, q_len.unsqueeze(0))\n",
        "            \n",
        "        # Make a prediction. The output of this prediction will be visualized later.\n",
        "        pred, answer_idx = F.softmax(ans, dim=1).data.cpu().max(dim=1)\n",
        "\n",
        "        attributions = attr.attribute(inputs=inputs,\n",
        "                                    baselines=baselines,\n",
        "                                    target=answer_idx,\n",
        "                                    additional_forward_args=q_len.unsqueeze(0),\n",
        "                                    n_steps=30)\n",
        "            \n",
        "        # Visualize text attributions\n",
        "        text_attributions_norm = attributions[1].sum(dim=2).squeeze(0).norm()\n",
        "        vis_data_records = [visualization.VisualizationDataRecord(\n",
        "                                attributions[1].sum(dim=2).squeeze(0) / text_attributions_norm,\n",
        "                                pred[0].item(),\n",
        "                                answer_words[ answer_idx ],\n",
        "                                answer_words[ answer_idx ],\n",
        "                                target,\n",
        "                                attributions[1].sum(),       \n",
        "                                question.split(),\n",
        "                                0.0)]\n",
        "        visualization.visualize_text(vis_data_records)\n",
        "\n",
        "        # visualize image attributions\n",
        "        original_im_mat = np.transpose(original_image.cpu().detach().numpy(), (1, 2, 0))\n",
        "        attributions_img = np.transpose(attributions[0].squeeze(0).cpu().detach().numpy(), (1, 2, 0))\n",
        "        \n",
        "        visualization.visualize_image_attr_multiple(attributions_img, original_im_mat, \n",
        "                                                    [\"original_image\", \"heat_map\"], [\"all\", \"absolute_value\"], \n",
        "                                                    titles=[\"Original Image\", \"Attribution Magnitude\"],\n",
        "                                                    cmap=default_cmap,\n",
        "                                                    show_colorbar=True)\n",
        "        print('Text Contributions: ', attributions[1].sum().item())\n",
        "        print('Image Contributions: ', attributions[0].sum().item())\n",
        "        print('Total Contribution: ', attributions[0].sum().item() + attributions[1].sum().item())"
      ],
      "metadata": {
        "id": "gOsiuqaV250f"
      },
      "execution_count": null,
      "outputs": []
    },
    {
      "cell_type": "code",
      "source": [
        "# the index of image in the test set. Please, change it if you want to play with different test images/samples.\n",
        "image_idx = 0 # elephant\n",
        "vqa_resnet_interpret(images[image_idx], [\n",
        "    \"what is on the picture\",\n",
        "    \"what color is the elephant\",\n",
        "    \"where is the elephant\"\n",
        "], ['elephant', 'gray', 'zoo'])"
      ],
      "metadata": {
        "id": "dOH2NkBm2529"
      },
      "execution_count": null,
      "outputs": []
    },
    {
      "cell_type": "code",
      "source": [
        "import IPython\n",
        "# Above cell generates an output similar to this:\n",
        "IPython.display.Image(filename='img/vqa/elephant_attribution.jpg')"
      ],
      "metadata": {
        "id": "ckBdYDNW2550"
      },
      "execution_count": null,
      "outputs": []
    },
    {
      "cell_type": "code",
      "source": [
        "image_idx = 0 # cat\n",
        "\n",
        "vqa_resnet_interpret(images[image_idx], [\n",
        "    \"what is on the picture\",\n",
        "    \"what color are the cat's eyes\",\n",
        "    \"is the animal in the picture a cat or a fox\",\n",
        "    \"what color is the cat\",\n",
        "    \"how many ears does the cat have\",\n",
        "    \"where is the cat\"\n",
        "], ['cat', 'blue', 'cat', 'white and brown', '2', 'at the wall'])"
      ],
      "metadata": {
        "id": "njQY010a3EaX"
      },
      "execution_count": null,
      "outputs": []
    },
    {
      "cell_type": "code",
      "source": [
        "# Above cell generates an output similar to this:\n",
        "IPython.display.Image(filename='img/vqa/siamese_attribution.jpg')"
      ],
      "metadata": {
        "id": "Rr26PvBZ3Ec7"
      },
      "execution_count": null,
      "outputs": []
    },
    {
      "cell_type": "code",
      "source": [
        "image_idx = 2 # zebra\n",
        "\n",
        "vqa_resnet_interpret(images[image_idx], [\n",
        "    \"what is on the picture\",\n",
        "    \"what color are the zebras\",\n",
        "    \"how many zebras are on the picture\",\n",
        "    \"where are the zebras\"\n",
        "], ['zebra', 'black and white', '2', 'zoo'])"
      ],
      "metadata": {
        "id": "qfjKFpWB3Ef7"
      },
      "execution_count": null,
      "outputs": []
    },
    {
      "cell_type": "code",
      "source": [
        "# Above cell generates an output similar to this:\n",
        "IPython.display.Image(filename='img/vqa/zebra_attribution.jpg')"
      ],
      "metadata": {
        "id": "5eD0sUJJ3O18"
      },
      "execution_count": null,
      "outputs": []
    },
    {
      "cell_type": "code",
      "source": [
        "# As mentioned above, after we are done with interpretation, we have to remove Interpretable Embedding Layer and set the original embeddings layer back to the model.\n",
        "\n",
        "if USE_INTEPRETABLE_EMBEDDING_LAYER:\n",
        "    remove_interpretable_embedding_layer(vqa_resnet, interpretable_embedding)"
      ],
      "metadata": {
        "id": "dV87iPAgA-rB"
      },
      "execution_count": null,
      "outputs": []
    }
  ]
}